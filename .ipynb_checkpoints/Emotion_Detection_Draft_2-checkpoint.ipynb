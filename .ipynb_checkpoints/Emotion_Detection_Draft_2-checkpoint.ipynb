{
 "cells": [
  {
   "cell_type": "code",
   "execution_count": null,
   "metadata": {
    "id": "K7z7e-Wzx__j"
   },
   "outputs": [],
   "source": [
    "!pip install pycaret"
   ]
  },
  {
   "cell_type": "code",
   "execution_count": null,
   "metadata": {
    "id": "aygxjhGlyA0k"
   },
   "outputs": [],
   "source": [
    "pip install --upgrade scikit-learn==0.23.2"
   ]
  },
  {
   "cell_type": "code",
   "execution_count": null,
   "metadata": {
    "colab": {
     "base_uri": "https://localhost:8080/"
    },
    "id": "eIXO1oCDLLda",
    "outputId": "715c8242-d55c-4f88-d465-93576654aad3"
   },
   "outputs": [],
   "source": [
    "from google.colab import drive\n",
    "drive.mount('/content/drive')"
   ]
  },
  {
   "cell_type": "code",
   "execution_count": null,
   "metadata": {
    "colab": {
     "base_uri": "https://localhost:8080/"
    },
    "id": "bCVphNufNIuY",
    "outputId": "042adcc4-f524-4b37-a147-6a24fdeaba29"
   },
   "outputs": [],
   "source": [
    "import nltk\n",
    "nltk.download('stopwords')"
   ]
  },
  {
   "cell_type": "code",
   "execution_count": null,
   "metadata": {
    "id": "e3lyn5GRNIxD"
   },
   "outputs": [],
   "source": [
    "#import data and preprocess\n",
    "import pandas as pd\n",
    "import re\n",
    "import string\n",
    "from string import punctuation\n",
    "from nltk.corpus import stopwords\n",
    "stop_words = stopwords.words('english') # atau 'Indonesian'\n",
    "\n",
    "#feature extraction\n",
    "from sklearn.feature_extraction.text import CountVectorizer\n",
    "from sklearn.feature_extraction.text import TfidfVectorizer\n",
    "\n",
    "#modelling\n",
    "from sklearn.model_selection import train_test_split\n",
    "from sklearn import svm, naive_bayes\n",
    "from sklearn.linear_model import LogisticRegression\n",
    "\n",
    "#evaluation metrics\n",
    "from sklearn.metrics import accuracy_score, classification_report, confusion_matrix"
   ]
  },
  {
   "cell_type": "code",
   "execution_count": null,
   "metadata": {
    "id": "0yFUaR2PNIz0"
   },
   "outputs": [],
   "source": [
    "#Read Text\n",
    "\n",
    "dep = ['cuttingquote.xlsx', 'depressed1278.xlsx', 'depressingmsgs.xlsx', 'suicidalconcept.xlsx']\n",
    "nondep = 'nondepressiontweet.xlsx'\n",
    "\n",
    "def read_dep_files(files):\n",
    "  for index, item in enumerate(files):\n",
    "     if index == 1:\n",
    "       dfs1 = pd.read_excel(item, usecols=[2])\n",
    "     else:\n",
    "       dfs2 = [pd.read_excel(item, usecols=[2], skipfooter=200) for index, item in enumerate(files) if index != 1]\n",
    "  df = pd.concat(dfs2, ignore_index=True)\n",
    "  df = pd.concat([df, dfs1], ignore_index=True)\n",
    "  df.rename(columns={'text':'tweet'}, inplace=True)\n",
    "  df['label'] = 1\n",
    "  return df\n",
    "\n",
    "def read_nondep_files(files):\n",
    "    text = pd.read_excel(files)\n",
    "    return text"
   ]
  },
  {
   "cell_type": "code",
   "execution_count": null,
   "metadata": {
    "colab": {
     "base_uri": "https://localhost:8080/",
     "height": 423
    },
    "id": "lL9QvmWwNI2w",
    "outputId": "fa2cb56b-ea29-4040-8aa1-6874bd95bcf6"
   },
   "outputs": [],
   "source": [
    "df_depressed = read_dep_files(dep)\n",
    "df_depressed"
   ]
  },
  {
   "cell_type": "code",
   "execution_count": null,
   "metadata": {
    "colab": {
     "base_uri": "https://localhost:8080/",
     "height": 423
    },
    "id": "6I_qn3R9NI5m",
    "outputId": "825bf70e-0dcc-477d-b914-7f3a3a49505f"
   },
   "outputs": [],
   "source": [
    "df_nondepressed = read_nondep_files(nondep)\n",
    "df_nondepressed"
   ]
  },
  {
   "cell_type": "code",
   "execution_count": null,
   "metadata": {
    "colab": {
     "base_uri": "https://localhost:8080/",
     "height": 300
    },
    "id": "SXOqtZdvureY",
    "outputId": "a0b790a1-e74e-4fdc-9fb6-3d3ab245b8eb"
   },
   "outputs": [],
   "source": [
    "df = pd.concat([df_depressed, df_nondepressed], ignore_index=True)\n",
    "df['length'] = df.tweet.apply(len)\n",
    "df.describe()"
   ]
  },
  {
   "cell_type": "code",
   "execution_count": null,
   "metadata": {
    "colab": {
     "base_uri": "https://localhost:8080/"
    },
    "id": "k-eXj_c6IPNz",
    "outputId": "58b47018-d3e6-4abc-b72c-8064bb328935"
   },
   "outputs": [],
   "source": [
    "df.shape"
   ]
  },
  {
   "cell_type": "code",
   "execution_count": null,
   "metadata": {
    "colab": {
     "base_uri": "https://localhost:8080/",
     "height": 423
    },
    "id": "FQUrV5EIIPN0",
    "outputId": "2e44dbc5-4fbe-4abf-e4a0-a4f1e692b493"
   },
   "outputs": [],
   "source": [
    "df"
   ]
  },
  {
   "cell_type": "code",
   "execution_count": null,
   "metadata": {
    "colab": {
     "base_uri": "https://localhost:8080/",
     "height": 442
    },
    "id": "as66s5SQwww8",
    "outputId": "1935f8d2-2025-4edc-d068-56640a5d34d1"
   },
   "outputs": [],
   "source": [
    "import matplotlib.pyplot as plt\n",
    "import seaborn as sns\n",
    "\n",
    "plt.figure(figsize=(8,6))\n",
    "sns.countplot(df.label, palette='ch:7', edgecolor= 'white', linewidth=5)\n",
    "sns.set(style='darkgrid')\n",
    "plt.show()"
   ]
  },
  {
   "cell_type": "markdown",
   "metadata": {
    "id": "ARaBhVJeCyhl"
   },
   "source": [
    "### Data Cleansing"
   ]
  },
  {
   "cell_type": "code",
   "execution_count": null,
   "metadata": {
    "colab": {
     "base_uri": "https://localhost:8080/"
    },
    "id": "jIWorEIIC1Ju",
    "outputId": "bc41dd89-6e3a-4e50-d18a-6ede261c3f84"
   },
   "outputs": [],
   "source": [
    "! pip install tweet-preprocessor \n",
    "\n",
    "import preprocessor as p"
   ]
  },
  {
   "cell_type": "code",
   "execution_count": null,
   "metadata": {
    "id": "2Tlj0n_eDlx6"
   },
   "outputs": [],
   "source": [
    "pd.options.display.max_colwidth = 1000\n",
    "pd.options.display.max_rows = 1000"
   ]
  },
  {
   "cell_type": "code",
   "execution_count": null,
   "metadata": {
    "colab": {
     "base_uri": "https://localhost:8080/",
     "height": 1000
    },
    "id": "DN1np4_NNhPj",
    "outputId": "3997ca87-9b77-4b85-9b6e-b1ce1592e730"
   },
   "outputs": [],
   "source": [
    "# Bikin kolom baru berisi text_clean\n",
    "\n",
    "df['tweet_clean'] = df['tweet']\n",
    "df.head(50)"
   ]
  },
  {
   "cell_type": "code",
   "execution_count": null,
   "metadata": {
    "colab": {
     "base_uri": "https://localhost:8080/",
     "height": 206
    },
    "id": "FM8fC_ATQxox",
    "outputId": "20750f43-0698-4f25-cdf0-b7d973e4da4b"
   },
   "outputs": [],
   "source": [
    "#Buat kolom length untuk length text_clean\n",
    "\n",
    "df['tweet_clean_length'] = df['tweet_clean'].apply(len)\n",
    "df.head(5)"
   ]
  },
  {
   "cell_type": "markdown",
   "metadata": {
    "id": "o8XbBun6IPN9"
   },
   "source": [
    "#### Removing Link"
   ]
  },
  {
   "cell_type": "code",
   "execution_count": null,
   "metadata": {
    "colab": {
     "base_uri": "https://localhost:8080/",
     "height": 1000
    },
    "id": "8afBwdyBIPN9",
    "outputId": "e5fa393a-6da6-4684-9de3-020615f96f97"
   },
   "outputs": [],
   "source": [
    "# Remove link\n",
    "import re\n",
    "\n",
    "def deLink(text):\n",
    "    regex_link = re.sub(r\"(?:\\@|http?\\://|https?\\://|www)\\S+\", \" \", text)\n",
    "    return regex_link\n",
    "\n",
    "df['tweet_clean'] = df['tweet_clean'].apply(deLink)\n",
    "df.head(50)"
   ]
  },
  {
   "cell_type": "markdown",
   "metadata": {
    "id": "74u_mAHeIPN-"
   },
   "source": [
    "#### Removing Space"
   ]
  },
  {
   "cell_type": "code",
   "execution_count": null,
   "metadata": {
    "colab": {
     "base_uri": "https://localhost:8080/",
     "height": 206
    },
    "id": "NWcoSDHbNhd2",
    "outputId": "a7d5241d-099e-4d9b-ec04-299047798237"
   },
   "outputs": [],
   "source": [
    "#ganti '\\n' dengan spasi\n",
    "\n",
    "df['tweet_clean'] = [x.replace('\\n', ' ') for x in df['tweet_clean']]\n",
    "df.head(5)"
   ]
  },
  {
   "cell_type": "markdown",
   "metadata": {
    "id": "zZojkKRgVCRt"
   },
   "source": [
    "#### Removing Punctuations"
   ]
  },
  {
   "cell_type": "code",
   "execution_count": null,
   "metadata": {
    "colab": {
     "base_uri": "https://localhost:8080/",
     "height": 1000
    },
    "id": "BtCDetCwVHzA",
    "outputId": "4dd3711e-526d-4041-eae0-8a8d62ea7701"
   },
   "outputs": [],
   "source": [
    "#Buang Tanda Baca\n",
    "\n",
    "import string\n",
    "string.punctuation\n",
    "\n",
    "def message_cleaning(message):\n",
    "    # test_punc_removed = [char for char in message if char not in string.punctuation]\n",
    "    test_punc_removed = ''\n",
    "    for char in message:\n",
    "        if char not in string.punctuation:\n",
    "            test_punc_removed += char\n",
    "        else:\n",
    "            test_punc_removed += \" \"\n",
    "            \n",
    "    test_punc_removed_join = ''.join(test_punc_removed)\n",
    "    test_punc_removed_join_clean = [word for word in test_punc_removed_join.split()]\n",
    "    test_punc_removed_join_clean = \" \".join(test_punc_removed_join_clean)\n",
    "    return test_punc_removed_join_clean\n",
    "\n",
    "df['tweet_clean'] = df['tweet_clean'].apply(message_cleaning)\n",
    "df.tail(50)"
   ]
  },
  {
   "cell_type": "markdown",
   "metadata": {
    "id": "RDrqbPNcIPOA"
   },
   "source": [
    "#### Removing Emoji"
   ]
  },
  {
   "cell_type": "code",
   "execution_count": null,
   "metadata": {
    "colab": {
     "base_uri": "https://localhost:8080/",
     "height": 1000
    },
    "id": "xxs4z-WkIPOA",
    "outputId": "733b22a2-65a0-4d38-a8af-48d59412029e"
   },
   "outputs": [],
   "source": [
    "# Buang emoji\n",
    "import re\n",
    "\n",
    "def deEmojify(text):\n",
    "    regrex_pattern = re.compile(pattern = \"[\"\n",
    "        u\"\\U0001F600-\\U0001F64F\"  # emoticons\n",
    "        u\"\\U0001F300-\\U0001F5FF\"  # symbols & pictographs\n",
    "        u\"\\U0001F680-\\U0001F6FF\"  # transport & map symbols\n",
    "        u\"\\U0001F1E0-\\U0001F1FF\"  # flags (iOS)\n",
    "        u\"\\U0001F1F2-\\U0001F1F4\"  # Macau flag\n",
    "        u\"\\U0001F1E6-\\U0001F1FF\"  # flags\n",
    "        u\"\\U0001F600-\\U0001F64F\"\n",
    "        u\"\\U00002702-\\U000027B0\"\n",
    "        u\"\\U000024C2-\\U0001F251\"\n",
    "        u\"\\U0001f926-\\U0001f937\"\n",
    "        u\"\\U0001F1F2\"\n",
    "        u\"\\U0001F1F4\"\n",
    "        u\"\\U0001F620\"\n",
    "        u\"\\u200d\"\n",
    "        u\"\\u2640-\\u2642\"\n",
    "        \"]+\", flags = re.UNICODE)\n",
    "    return regrex_pattern.sub(r'',text)\n",
    "\n",
    "df['tweet_clean'] = df['tweet_clean'].apply(deEmojify)\n",
    "df.tail(50)"
   ]
  },
  {
   "cell_type": "code",
   "execution_count": null,
   "metadata": {
    "colab": {
     "base_uri": "https://localhost:8080/",
     "height": 288
    },
    "id": "_vUQO9iXVbPa",
    "outputId": "1f3742ce-f105-49cd-be56-7afd1a2147c2"
   },
   "outputs": [],
   "source": [
    "df['tweet_clean_length'].plot(bins=100, kind='hist') "
   ]
  },
  {
   "cell_type": "code",
   "execution_count": null,
   "metadata": {
    "colab": {
     "base_uri": "https://localhost:8080/",
     "height": 300
    },
    "id": "36iY3T5KIPOB",
    "outputId": "a2056f7f-89d0-458c-8521-87814c890551"
   },
   "outputs": [],
   "source": [
    "# summarize after clenasing\n",
    "df.describe()"
   ]
  },
  {
   "cell_type": "markdown",
   "metadata": {
    "id": "ujpTPnlQ6xBI"
   },
   "source": [
    "### Word Cloud"
   ]
  },
  {
   "cell_type": "code",
   "execution_count": null,
   "metadata": {
    "colab": {
     "base_uri": "https://localhost:8080/",
     "height": 607
    },
    "id": "iwu_MLpt5vht",
    "outputId": "dee320be-4297-452d-ec18-6ef9ae6fbba9"
   },
   "outputs": [],
   "source": [
    "#Depressive Words\n",
    "\n",
    "depressive_words = ' '.join(list(df[df['label'] == 1]['tweet_clean']))\n",
    "depressive_wc = WordCloud(width = 612,height = 612, collocations=False, colormap=\"Blues\").generate(depressive_words)\n",
    "plt.figure(figsize = (10, 8), facecolor = 'k')\n",
    "plt.imshow(depressive_wc)\n",
    "plt.axis('off')\n",
    "plt.tight_layout(pad = 0)\n",
    "plt.show()"
   ]
  },
  {
   "cell_type": "code",
   "execution_count": null,
   "metadata": {
    "colab": {
     "base_uri": "https://localhost:8080/",
     "height": 607
    },
    "id": "lfzHXLLP7Mv1",
    "outputId": "4aff71df-ab3c-4c2f-a744-6ca728be6329"
   },
   "outputs": [],
   "source": [
    "#Non-Depressive Words\n",
    "\n",
    "depressive_words = ' '.join(list(df[df['label'] == 0]['tweet_clean']))\n",
    "depressive_wc = WordCloud(width = 612,height = 612, collocations=False, colormap=\"Blues\").generate(depressive_words)\n",
    "plt.figure(figsize = (10, 8), facecolor = 'k')\n",
    "plt.imshow(depressive_wc)\n",
    "plt.axis('off')\n",
    "plt.tight_layout(pad = 0)\n",
    "plt.show()"
   ]
  },
  {
   "cell_type": "markdown",
   "metadata": {
    "id": "2dtRitBY7aMu"
   },
   "source": [
    "# Bag of Words"
   ]
  },
  {
   "cell_type": "code",
   "execution_count": null,
   "metadata": {
    "colab": {
     "base_uri": "https://localhost:8080/",
     "height": 443
    },
    "id": "AIFD6_u3NluN",
    "outputId": "7300e136-3dd4-4aac-bfa3-30add752f172"
   },
   "outputs": [],
   "source": [
    "cv = CountVectorizer(lowercase = True, stop_words = stop_words, token_pattern=\"[A-Za-z]+\")\n",
    "# Ubah ke dalam bentuk BoW\n",
    "BoW = cv.fit_transform(df['tweet_clean'])\n",
    "BoW_df = pd.DataFrame(BoW.toarray(), columns=cv.get_feature_names())\n",
    "BoW_df['target_cat'] = df.reset_index().label.map({0:0, 1:1})\n",
    "BoW_df"
   ]
  },
  {
   "cell_type": "code",
   "execution_count": null,
   "metadata": {
    "colab": {
     "base_uri": "https://localhost:8080/",
     "height": 1000,
     "referenced_widgets": [
      "e6b00eee19684b138de1a5218528ff48",
      "caa37bfd4afb4da0af332de5e2c5fa1d",
      "bec84976170646269c5dcfb18eaa1180",
      "1bbbc4a315a34b1f8aa23cb30caf6b5c",
      "865d2511227a43889ac41a5b63bd7c9a",
      "fa255a30b5874806a9bd1b477f498f11"
     ]
    },
    "id": "vCMyBMXfNlw8",
    "outputId": "0f9115c8-94bf-4938-d5dc-c623f8507c7b"
   },
   "outputs": [],
   "source": [
    "from pycaret.classification import *\n",
    "setup = setup(data=BoW_df, target='target_cat', session_id=123, train_size = 0.6, fold=5)"
   ]
  },
  {
   "cell_type": "code",
   "execution_count": null,
   "metadata": {
    "colab": {
     "base_uri": "https://localhost:8080/",
     "height": 488,
     "referenced_widgets": [
      "4421d3e6bcef49ad8dc4b4e8ad37ef80",
      "0b60633998fc48b191b0a510f2d3f55f",
      "8c385f5970ba4d9fa1565b6cda56c567"
     ]
    },
    "id": "9oYZ1CpQa8QJ",
    "outputId": "ad119098-3d7d-41e3-b8ac-c69e68c782a4"
   },
   "outputs": [],
   "source": [
    "models = compare_models()"
   ]
  },
  {
   "cell_type": "markdown",
   "metadata": {
    "id": "gQ4k8XRGbJbS"
   },
   "source": [
    "### Confussion Matrix (BoW)"
   ]
  },
  {
   "cell_type": "code",
   "execution_count": null,
   "metadata": {
    "colab": {
     "base_uri": "https://localhost:8080/",
     "height": 401,
     "referenced_widgets": [
      "ff6e95b7a66546b0a59a539050ecaa76",
      "08256bb8c45144eba62b157a3efaef01",
      "0c822482a5a94d8ab943b2053e5a0928",
      "1faf711ddc174c6084265b46a29f7ccf"
     ]
    },
    "id": "jnpZIIKia8aA",
    "outputId": "788cf160-2f16-4a7d-b866-d661b1d65f5c"
   },
   "outputs": [],
   "source": [
    "lr = create_model('lr')\n",
    "plot_model(lr, \"confusion_matrix\")"
   ]
  },
  {
   "cell_type": "markdown",
   "metadata": {
    "id": "YWP4EkZ17xP9"
   },
   "source": [
    "# TF - IDF"
   ]
  },
  {
   "cell_type": "code",
   "execution_count": null,
   "metadata": {
    "colab": {
     "base_uri": "https://localhost:8080/",
     "height": 443
    },
    "id": "Krdh-vWX7ogh",
    "outputId": "ff0733ca-ca07-4d59-aa2e-f72320d6389a"
   },
   "outputs": [],
   "source": [
    "tv = TfidfVectorizer(lowercase = True, stop_words = stop_words, token_pattern=\"[A-Za-z]+\")\n",
    "# Ubah ke dalam bentuk TF-IDF\n",
    "tf_idf = tv.fit_transform(df['tweet_clean'])\n",
    "tf_idf_df = pd.DataFrame(tf_idf.toarray(), columns=tv.get_feature_names())\n",
    "tf_idf_df['target_cat'] = df.reset_index().label.map({0:'nondepressed', 1:'depressed'})\n",
    "tf_idf_df"
   ]
  },
  {
   "cell_type": "code",
   "execution_count": null,
   "metadata": {
    "colab": {
     "base_uri": "https://localhost:8080/",
     "height": 1000,
     "referenced_widgets": [
      "783f4c1c63874126989362e0cd7759cb",
      "40aaf1c43c814325bb6bac3042baa4ad",
      "1c958bb161e94358aaf0c4809c2e7a62",
      "a2e5374c98364c8796fb2cd7fb6883e6",
      "73b29a082b1041f69f2be366f3c154bd",
      "51dd9bf91ee045f7a2e03b666757e36a"
     ]
    },
    "id": "NOLg0Mve7ovi",
    "outputId": "8de3688d-f97a-4f4a-82b6-259f44a459aa"
   },
   "outputs": [],
   "source": [
    "from pycaret.classification import *\n",
    "setup = setup(data=tf_idf_df, target='target_cat', session_id=123, train_size = 0.7, fold=10)"
   ]
  },
  {
   "cell_type": "code",
   "execution_count": null,
   "metadata": {
    "colab": {
     "base_uri": "https://localhost:8080/",
     "height": 488,
     "referenced_widgets": [
      "5073ccf05dcb4651a71f6d3f81ed756b",
      "61b0c9352c564760b93eab246d17572d",
      "11613ab222bf48bebd5c6b9344b1ba79"
     ]
    },
    "id": "dJJXNtlN7oyN",
    "outputId": "4c8a99e1-2b61-4602-a545-48a6935234c7"
   },
   "outputs": [],
   "source": [
    "models = compare_models()"
   ]
  },
  {
   "cell_type": "markdown",
   "metadata": {
    "id": "4o6a76b_--YT"
   },
   "source": [
    "### Confussion Matrix TF-IDF"
   ]
  },
  {
   "cell_type": "code",
   "execution_count": null,
   "metadata": {
    "colab": {
     "base_uri": "https://localhost:8080/",
     "height": 401,
     "referenced_widgets": [
      "0ed3c37081b54ebbb296484d7d602a95",
      "0fa1464235f446988b472fe901fdd018",
      "5d1217cb1cad4a91858e55ab6e01400b"
     ]
    },
    "id": "ohS2IxRc-8wc",
    "outputId": "8a29586a-02b1-422a-a852-1c94fd8f24cb"
   },
   "outputs": [],
   "source": [
    "ridge_model = create_model('ridge')\n",
    "plot_model(ridge_model, \"confusion_matrix\")"
   ]
  },
  {
   "cell_type": "markdown",
   "metadata": {
    "id": "vAYa09PW_bhY"
   },
   "source": [
    "### Prediction"
   ]
  },
  {
   "cell_type": "code",
   "execution_count": null,
   "metadata": {
    "colab": {
     "base_uri": "https://localhost:8080/"
    },
    "id": "cNzLb6pO7o2i",
    "outputId": "24df76f5-1d22-4a41-ce89-448bd1c8256b"
   },
   "outputs": [],
   "source": [
    "ridge_final = finalize_model(ridge_model)\n",
    "ridge_final"
   ]
  },
  {
   "cell_type": "code",
   "execution_count": null,
   "metadata": {
    "id": "U4dpGLQA7o5M"
   },
   "outputs": [],
   "source": [
    "text = ['There are no words for the pain of feeling so unwanted.']"
   ]
  },
  {
   "cell_type": "code",
   "execution_count": null,
   "metadata": {
    "colab": {
     "base_uri": "https://localhost:8080/",
     "height": 81
    },
    "id": "lX8RuInl7o7p",
    "outputId": "6a59f1a8-373f-4ceb-b8d5-ab3684780692"
   },
   "outputs": [],
   "source": [
    "#Ubah text ke dalam dataframe\n",
    "text_transformed = cv.transform(text)\n",
    "text_transformed_df = pd.DataFrame(text_transformed.toarray(), columns=cv.get_feature_names())\n",
    "\n",
    "#Predict the text\n",
    "prediction = predict_model(ridge_final, text_transformed_df)\n",
    "prediction[['Label']]"
   ]
  }
 ],
 "metadata": {
  "colab": {
   "collapsed_sections": [],
   "name": "Emotion_Detection-Draft_1 (1).ipynb",
   "provenance": []
  },
  "kernelspec": {
   "display_name": "Python 3",
   "language": "python",
   "name": "python3"
  },
  "language_info": {
   "codemirror_mode": {
    "name": "ipython",
    "version": 3
   },
   "file_extension": ".py",
   "mimetype": "text/x-python",
   "name": "python",
   "nbconvert_exporter": "python",
   "pygments_lexer": "ipython3",
   "version": "3.8.8"
  },
  "widgets": {
   "application/vnd.jupyter.widget-state+json": {
    "08256bb8c45144eba62b157a3efaef01": {
     "model_module": "@jupyter-widgets/controls",
     "model_module_version": "1.5.0",
     "model_name": "ProgressStyleModel",
     "state": {
      "_model_module": "@jupyter-widgets/controls",
      "_model_module_version": "1.5.0",
      "_model_name": "ProgressStyleModel",
      "_view_count": null,
      "_view_module": "@jupyter-widgets/base",
      "_view_module_version": "1.2.0",
      "_view_name": "StyleView",
      "bar_color": null,
      "description_width": ""
     }
    },
    "0b60633998fc48b191b0a510f2d3f55f": {
     "model_module": "@jupyter-widgets/controls",
     "model_module_version": "1.5.0",
     "model_name": "ProgressStyleModel",
     "state": {
      "_model_module": "@jupyter-widgets/controls",
      "_model_module_version": "1.5.0",
      "_model_name": "ProgressStyleModel",
      "_view_count": null,
      "_view_module": "@jupyter-widgets/base",
      "_view_module_version": "1.2.0",
      "_view_name": "StyleView",
      "bar_color": null,
      "description_width": ""
     }
    },
    "0c822482a5a94d8ab943b2053e5a0928": {
     "model_module": "@jupyter-widgets/base",
     "model_module_version": "1.2.0",
     "model_name": "LayoutModel",
     "state": {
      "_model_module": "@jupyter-widgets/base",
      "_model_module_version": "1.2.0",
      "_model_name": "LayoutModel",
      "_view_count": null,
      "_view_module": "@jupyter-widgets/base",
      "_view_module_version": "1.2.0",
      "_view_name": "LayoutView",
      "align_content": null,
      "align_items": null,
      "align_self": null,
      "border": null,
      "bottom": null,
      "display": null,
      "flex": null,
      "flex_flow": null,
      "grid_area": null,
      "grid_auto_columns": null,
      "grid_auto_flow": null,
      "grid_auto_rows": null,
      "grid_column": null,
      "grid_gap": null,
      "grid_row": null,
      "grid_template_areas": null,
      "grid_template_columns": null,
      "grid_template_rows": null,
      "height": null,
      "justify_content": null,
      "justify_items": null,
      "left": null,
      "margin": null,
      "max_height": null,
      "max_width": null,
      "min_height": null,
      "min_width": null,
      "object_fit": null,
      "object_position": null,
      "order": null,
      "overflow": null,
      "overflow_x": null,
      "overflow_y": null,
      "padding": null,
      "right": null,
      "top": null,
      "visibility": null,
      "width": null
     }
    },
    "0ed3c37081b54ebbb296484d7d602a95": {
     "model_module": "@jupyter-widgets/controls",
     "model_module_version": "1.5.0",
     "model_name": "IntProgressModel",
     "state": {
      "_dom_classes": [],
      "_model_module": "@jupyter-widgets/controls",
      "_model_module_version": "1.5.0",
      "_model_name": "IntProgressModel",
      "_view_count": null,
      "_view_module": "@jupyter-widgets/controls",
      "_view_module_version": "1.5.0",
      "_view_name": "ProgressView",
      "bar_style": "",
      "description": "Processing: ",
      "description_tooltip": null,
      "layout": "IPY_MODEL_5d1217cb1cad4a91858e55ab6e01400b",
      "max": 4,
      "min": 0,
      "orientation": "horizontal",
      "style": "IPY_MODEL_0fa1464235f446988b472fe901fdd018",
      "value": 4
     }
    },
    "0fa1464235f446988b472fe901fdd018": {
     "model_module": "@jupyter-widgets/controls",
     "model_module_version": "1.5.0",
     "model_name": "ProgressStyleModel",
     "state": {
      "_model_module": "@jupyter-widgets/controls",
      "_model_module_version": "1.5.0",
      "_model_name": "ProgressStyleModel",
      "_view_count": null,
      "_view_module": "@jupyter-widgets/base",
      "_view_module_version": "1.2.0",
      "_view_name": "StyleView",
      "bar_color": null,
      "description_width": ""
     }
    },
    "11613ab222bf48bebd5c6b9344b1ba79": {
     "model_module": "@jupyter-widgets/base",
     "model_module_version": "1.2.0",
     "model_name": "LayoutModel",
     "state": {
      "_model_module": "@jupyter-widgets/base",
      "_model_module_version": "1.2.0",
      "_model_name": "LayoutModel",
      "_view_count": null,
      "_view_module": "@jupyter-widgets/base",
      "_view_module_version": "1.2.0",
      "_view_name": "LayoutView",
      "align_content": null,
      "align_items": null,
      "align_self": null,
      "border": null,
      "bottom": null,
      "display": null,
      "flex": null,
      "flex_flow": null,
      "grid_area": null,
      "grid_auto_columns": null,
      "grid_auto_flow": null,
      "grid_auto_rows": null,
      "grid_column": null,
      "grid_gap": null,
      "grid_row": null,
      "grid_template_areas": null,
      "grid_template_columns": null,
      "grid_template_rows": null,
      "height": null,
      "justify_content": null,
      "justify_items": null,
      "left": null,
      "margin": null,
      "max_height": null,
      "max_width": null,
      "min_height": null,
      "min_width": null,
      "object_fit": null,
      "object_position": null,
      "order": null,
      "overflow": null,
      "overflow_x": null,
      "overflow_y": null,
      "padding": null,
      "right": null,
      "top": null,
      "visibility": null,
      "width": null
     }
    },
    "1bbbc4a315a34b1f8aa23cb30caf6b5c": {
     "model_module": "@jupyter-widgets/controls",
     "model_module_version": "1.5.0",
     "model_name": "TextModel",
     "state": {
      "_dom_classes": [],
      "_model_module": "@jupyter-widgets/controls",
      "_model_module_version": "1.5.0",
      "_model_name": "TextModel",
      "_view_count": null,
      "_view_module": "@jupyter-widgets/controls",
      "_view_module_version": "1.5.0",
      "_view_name": "TextView",
      "continuous_update": true,
      "description": "",
      "description_tooltip": null,
      "disabled": false,
      "layout": "IPY_MODEL_fa255a30b5874806a9bd1b477f498f11",
      "placeholder": "​",
      "style": "IPY_MODEL_865d2511227a43889ac41a5b63bd7c9a",
      "value": "Following data types have been inferred automatically, if they are correct press enter to continue or type 'quit' otherwise."
     }
    },
    "1c958bb161e94358aaf0c4809c2e7a62": {
     "model_module": "@jupyter-widgets/base",
     "model_module_version": "1.2.0",
     "model_name": "LayoutModel",
     "state": {
      "_model_module": "@jupyter-widgets/base",
      "_model_module_version": "1.2.0",
      "_model_name": "LayoutModel",
      "_view_count": null,
      "_view_module": "@jupyter-widgets/base",
      "_view_module_version": "1.2.0",
      "_view_name": "LayoutView",
      "align_content": null,
      "align_items": null,
      "align_self": null,
      "border": null,
      "bottom": null,
      "display": null,
      "flex": null,
      "flex_flow": null,
      "grid_area": null,
      "grid_auto_columns": null,
      "grid_auto_flow": null,
      "grid_auto_rows": null,
      "grid_column": null,
      "grid_gap": null,
      "grid_row": null,
      "grid_template_areas": null,
      "grid_template_columns": null,
      "grid_template_rows": null,
      "height": null,
      "justify_content": null,
      "justify_items": null,
      "left": null,
      "margin": null,
      "max_height": null,
      "max_width": null,
      "min_height": null,
      "min_width": null,
      "object_fit": null,
      "object_position": null,
      "order": null,
      "overflow": null,
      "overflow_x": null,
      "overflow_y": null,
      "padding": null,
      "right": null,
      "top": null,
      "visibility": null,
      "width": null
     }
    },
    "1faf711ddc174c6084265b46a29f7ccf": {
     "model_module": "@jupyter-widgets/controls",
     "model_module_version": "1.5.0",
     "model_name": "IntProgressModel",
     "state": {
      "_dom_classes": [],
      "_model_module": "@jupyter-widgets/controls",
      "_model_module_version": "1.5.0",
      "_model_name": "IntProgressModel",
      "_view_count": null,
      "_view_module": "@jupyter-widgets/controls",
      "_view_module_version": "1.5.0",
      "_view_name": "ProgressView",
      "bar_style": "",
      "description": "Processing: ",
      "description_tooltip": null,
      "layout": "IPY_MODEL_cfac5995c3fa4f70b4aed96cbe23c741",
      "max": 5,
      "min": 0,
      "orientation": "horizontal",
      "style": "IPY_MODEL_be15c2265eb84b919ac9b0047f6c97b6",
      "value": 5
     }
    },
    "40aaf1c43c814325bb6bac3042baa4ad": {
     "model_module": "@jupyter-widgets/controls",
     "model_module_version": "1.5.0",
     "model_name": "ProgressStyleModel",
     "state": {
      "_model_module": "@jupyter-widgets/controls",
      "_model_module_version": "1.5.0",
      "_model_name": "ProgressStyleModel",
      "_view_count": null,
      "_view_module": "@jupyter-widgets/base",
      "_view_module_version": "1.2.0",
      "_view_name": "StyleView",
      "bar_color": null,
      "description_width": ""
     }
    },
    "4421d3e6bcef49ad8dc4b4e8ad37ef80": {
     "model_module": "@jupyter-widgets/controls",
     "model_module_version": "1.5.0",
     "model_name": "IntProgressModel",
     "state": {
      "_dom_classes": [],
      "_model_module": "@jupyter-widgets/controls",
      "_model_module_version": "1.5.0",
      "_model_name": "IntProgressModel",
      "_view_count": null,
      "_view_module": "@jupyter-widgets/controls",
      "_view_module_version": "1.5.0",
      "_view_name": "ProgressView",
      "bar_style": "",
      "description": "Processing: ",
      "description_tooltip": null,
      "layout": "IPY_MODEL_8c385f5970ba4d9fa1565b6cda56c567",
      "max": 74,
      "min": 0,
      "orientation": "horizontal",
      "style": "IPY_MODEL_0b60633998fc48b191b0a510f2d3f55f",
      "value": 74
     }
    },
    "5073ccf05dcb4651a71f6d3f81ed756b": {
     "model_module": "@jupyter-widgets/controls",
     "model_module_version": "1.5.0",
     "model_name": "IntProgressModel",
     "state": {
      "_dom_classes": [],
      "_model_module": "@jupyter-widgets/controls",
      "_model_module_version": "1.5.0",
      "_model_name": "IntProgressModel",
      "_view_count": null,
      "_view_module": "@jupyter-widgets/controls",
      "_view_module_version": "1.5.0",
      "_view_name": "ProgressView",
      "bar_style": "",
      "description": "Processing: ",
      "description_tooltip": null,
      "layout": "IPY_MODEL_11613ab222bf48bebd5c6b9344b1ba79",
      "max": 74,
      "min": 0,
      "orientation": "horizontal",
      "style": "IPY_MODEL_61b0c9352c564760b93eab246d17572d",
      "value": 74
     }
    },
    "51dd9bf91ee045f7a2e03b666757e36a": {
     "model_module": "@jupyter-widgets/base",
     "model_module_version": "1.2.0",
     "model_name": "LayoutModel",
     "state": {
      "_model_module": "@jupyter-widgets/base",
      "_model_module_version": "1.2.0",
      "_model_name": "LayoutModel",
      "_view_count": null,
      "_view_module": "@jupyter-widgets/base",
      "_view_module_version": "1.2.0",
      "_view_name": "LayoutView",
      "align_content": null,
      "align_items": null,
      "align_self": null,
      "border": null,
      "bottom": null,
      "display": null,
      "flex": null,
      "flex_flow": null,
      "grid_area": null,
      "grid_auto_columns": null,
      "grid_auto_flow": null,
      "grid_auto_rows": null,
      "grid_column": null,
      "grid_gap": null,
      "grid_row": null,
      "grid_template_areas": null,
      "grid_template_columns": null,
      "grid_template_rows": null,
      "height": null,
      "justify_content": null,
      "justify_items": null,
      "left": null,
      "margin": null,
      "max_height": null,
      "max_width": null,
      "min_height": null,
      "min_width": null,
      "object_fit": null,
      "object_position": null,
      "order": null,
      "overflow": null,
      "overflow_x": null,
      "overflow_y": null,
      "padding": null,
      "right": null,
      "top": null,
      "visibility": null,
      "width": "100%"
     }
    },
    "5d1217cb1cad4a91858e55ab6e01400b": {
     "model_module": "@jupyter-widgets/base",
     "model_module_version": "1.2.0",
     "model_name": "LayoutModel",
     "state": {
      "_model_module": "@jupyter-widgets/base",
      "_model_module_version": "1.2.0",
      "_model_name": "LayoutModel",
      "_view_count": null,
      "_view_module": "@jupyter-widgets/base",
      "_view_module_version": "1.2.0",
      "_view_name": "LayoutView",
      "align_content": null,
      "align_items": null,
      "align_self": null,
      "border": null,
      "bottom": null,
      "display": null,
      "flex": null,
      "flex_flow": null,
      "grid_area": null,
      "grid_auto_columns": null,
      "grid_auto_flow": null,
      "grid_auto_rows": null,
      "grid_column": null,
      "grid_gap": null,
      "grid_row": null,
      "grid_template_areas": null,
      "grid_template_columns": null,
      "grid_template_rows": null,
      "height": null,
      "justify_content": null,
      "justify_items": null,
      "left": null,
      "margin": null,
      "max_height": null,
      "max_width": null,
      "min_height": null,
      "min_width": null,
      "object_fit": null,
      "object_position": null,
      "order": null,
      "overflow": null,
      "overflow_x": null,
      "overflow_y": null,
      "padding": null,
      "right": null,
      "top": null,
      "visibility": null,
      "width": null
     }
    },
    "61b0c9352c564760b93eab246d17572d": {
     "model_module": "@jupyter-widgets/controls",
     "model_module_version": "1.5.0",
     "model_name": "ProgressStyleModel",
     "state": {
      "_model_module": "@jupyter-widgets/controls",
      "_model_module_version": "1.5.0",
      "_model_name": "ProgressStyleModel",
      "_view_count": null,
      "_view_module": "@jupyter-widgets/base",
      "_view_module_version": "1.2.0",
      "_view_name": "StyleView",
      "bar_color": null,
      "description_width": ""
     }
    },
    "73b29a082b1041f69f2be366f3c154bd": {
     "model_module": "@jupyter-widgets/controls",
     "model_module_version": "1.5.0",
     "model_name": "DescriptionStyleModel",
     "state": {
      "_model_module": "@jupyter-widgets/controls",
      "_model_module_version": "1.5.0",
      "_model_name": "DescriptionStyleModel",
      "_view_count": null,
      "_view_module": "@jupyter-widgets/base",
      "_view_module_version": "1.2.0",
      "_view_name": "StyleView",
      "description_width": ""
     }
    },
    "783f4c1c63874126989362e0cd7759cb": {
     "model_module": "@jupyter-widgets/controls",
     "model_module_version": "1.5.0",
     "model_name": "IntProgressModel",
     "state": {
      "_dom_classes": [],
      "_model_module": "@jupyter-widgets/controls",
      "_model_module_version": "1.5.0",
      "_model_name": "IntProgressModel",
      "_view_count": null,
      "_view_module": "@jupyter-widgets/controls",
      "_view_module_version": "1.5.0",
      "_view_name": "ProgressView",
      "bar_style": "",
      "description": "Processing: ",
      "description_tooltip": null,
      "layout": "IPY_MODEL_1c958bb161e94358aaf0c4809c2e7a62",
      "max": 3,
      "min": 0,
      "orientation": "horizontal",
      "style": "IPY_MODEL_40aaf1c43c814325bb6bac3042baa4ad",
      "value": 3
     }
    },
    "865d2511227a43889ac41a5b63bd7c9a": {
     "model_module": "@jupyter-widgets/controls",
     "model_module_version": "1.5.0",
     "model_name": "DescriptionStyleModel",
     "state": {
      "_model_module": "@jupyter-widgets/controls",
      "_model_module_version": "1.5.0",
      "_model_name": "DescriptionStyleModel",
      "_view_count": null,
      "_view_module": "@jupyter-widgets/base",
      "_view_module_version": "1.2.0",
      "_view_name": "StyleView",
      "description_width": ""
     }
    },
    "8c385f5970ba4d9fa1565b6cda56c567": {
     "model_module": "@jupyter-widgets/base",
     "model_module_version": "1.2.0",
     "model_name": "LayoutModel",
     "state": {
      "_model_module": "@jupyter-widgets/base",
      "_model_module_version": "1.2.0",
      "_model_name": "LayoutModel",
      "_view_count": null,
      "_view_module": "@jupyter-widgets/base",
      "_view_module_version": "1.2.0",
      "_view_name": "LayoutView",
      "align_content": null,
      "align_items": null,
      "align_self": null,
      "border": null,
      "bottom": null,
      "display": null,
      "flex": null,
      "flex_flow": null,
      "grid_area": null,
      "grid_auto_columns": null,
      "grid_auto_flow": null,
      "grid_auto_rows": null,
      "grid_column": null,
      "grid_gap": null,
      "grid_row": null,
      "grid_template_areas": null,
      "grid_template_columns": null,
      "grid_template_rows": null,
      "height": null,
      "justify_content": null,
      "justify_items": null,
      "left": null,
      "margin": null,
      "max_height": null,
      "max_width": null,
      "min_height": null,
      "min_width": null,
      "object_fit": null,
      "object_position": null,
      "order": null,
      "overflow": null,
      "overflow_x": null,
      "overflow_y": null,
      "padding": null,
      "right": null,
      "top": null,
      "visibility": null,
      "width": null
     }
    },
    "a2e5374c98364c8796fb2cd7fb6883e6": {
     "model_module": "@jupyter-widgets/controls",
     "model_module_version": "1.5.0",
     "model_name": "TextModel",
     "state": {
      "_dom_classes": [],
      "_model_module": "@jupyter-widgets/controls",
      "_model_module_version": "1.5.0",
      "_model_name": "TextModel",
      "_view_count": null,
      "_view_module": "@jupyter-widgets/controls",
      "_view_module_version": "1.5.0",
      "_view_name": "TextView",
      "continuous_update": true,
      "description": "",
      "description_tooltip": null,
      "disabled": false,
      "layout": "IPY_MODEL_51dd9bf91ee045f7a2e03b666757e36a",
      "placeholder": "​",
      "style": "IPY_MODEL_73b29a082b1041f69f2be366f3c154bd",
      "value": "Following data types have been inferred automatically, if they are correct press enter to continue or type 'quit' otherwise."
     }
    },
    "bec84976170646269c5dcfb18eaa1180": {
     "model_module": "@jupyter-widgets/base",
     "model_module_version": "1.2.0",
     "model_name": "LayoutModel",
     "state": {
      "_model_module": "@jupyter-widgets/base",
      "_model_module_version": "1.2.0",
      "_model_name": "LayoutModel",
      "_view_count": null,
      "_view_module": "@jupyter-widgets/base",
      "_view_module_version": "1.2.0",
      "_view_name": "LayoutView",
      "align_content": null,
      "align_items": null,
      "align_self": null,
      "border": null,
      "bottom": null,
      "display": null,
      "flex": null,
      "flex_flow": null,
      "grid_area": null,
      "grid_auto_columns": null,
      "grid_auto_flow": null,
      "grid_auto_rows": null,
      "grid_column": null,
      "grid_gap": null,
      "grid_row": null,
      "grid_template_areas": null,
      "grid_template_columns": null,
      "grid_template_rows": null,
      "height": null,
      "justify_content": null,
      "justify_items": null,
      "left": null,
      "margin": null,
      "max_height": null,
      "max_width": null,
      "min_height": null,
      "min_width": null,
      "object_fit": null,
      "object_position": null,
      "order": null,
      "overflow": null,
      "overflow_x": null,
      "overflow_y": null,
      "padding": null,
      "right": null,
      "top": null,
      "visibility": null,
      "width": null
     }
    },
    "caa37bfd4afb4da0af332de5e2c5fa1d": {
     "model_module": "@jupyter-widgets/controls",
     "model_module_version": "1.5.0",
     "model_name": "ProgressStyleModel",
     "state": {
      "_model_module": "@jupyter-widgets/controls",
      "_model_module_version": "1.5.0",
      "_model_name": "ProgressStyleModel",
      "_view_count": null,
      "_view_module": "@jupyter-widgets/base",
      "_view_module_version": "1.2.0",
      "_view_name": "StyleView",
      "bar_color": null,
      "description_width": ""
     }
    },
    "e6b00eee19684b138de1a5218528ff48": {
     "model_module": "@jupyter-widgets/controls",
     "model_module_version": "1.5.0",
     "model_name": "IntProgressModel",
     "state": {
      "_dom_classes": [],
      "_model_module": "@jupyter-widgets/controls",
      "_model_module_version": "1.5.0",
      "_model_name": "IntProgressModel",
      "_view_count": null,
      "_view_module": "@jupyter-widgets/controls",
      "_view_module_version": "1.5.0",
      "_view_name": "ProgressView",
      "bar_style": "",
      "description": "Processing: ",
      "description_tooltip": null,
      "layout": "IPY_MODEL_bec84976170646269c5dcfb18eaa1180",
      "max": 3,
      "min": 0,
      "orientation": "horizontal",
      "style": "IPY_MODEL_caa37bfd4afb4da0af332de5e2c5fa1d",
      "value": 3
     }
    },
    "fa255a30b5874806a9bd1b477f498f11": {
     "model_module": "@jupyter-widgets/base",
     "model_module_version": "1.2.0",
     "model_name": "LayoutModel",
     "state": {
      "_model_module": "@jupyter-widgets/base",
      "_model_module_version": "1.2.0",
      "_model_name": "LayoutModel",
      "_view_count": null,
      "_view_module": "@jupyter-widgets/base",
      "_view_module_version": "1.2.0",
      "_view_name": "LayoutView",
      "align_content": null,
      "align_items": null,
      "align_self": null,
      "border": null,
      "bottom": null,
      "display": null,
      "flex": null,
      "flex_flow": null,
      "grid_area": null,
      "grid_auto_columns": null,
      "grid_auto_flow": null,
      "grid_auto_rows": null,
      "grid_column": null,
      "grid_gap": null,
      "grid_row": null,
      "grid_template_areas": null,
      "grid_template_columns": null,
      "grid_template_rows": null,
      "height": null,
      "justify_content": null,
      "justify_items": null,
      "left": null,
      "margin": null,
      "max_height": null,
      "max_width": null,
      "min_height": null,
      "min_width": null,
      "object_fit": null,
      "object_position": null,
      "order": null,
      "overflow": null,
      "overflow_x": null,
      "overflow_y": null,
      "padding": null,
      "right": null,
      "top": null,
      "visibility": null,
      "width": "100%"
     }
    },
    "ff6e95b7a66546b0a59a539050ecaa76": {
     "model_module": "@jupyter-widgets/controls",
     "model_module_version": "1.5.0",
     "model_name": "IntProgressModel",
     "state": {
      "_dom_classes": [],
      "_model_module": "@jupyter-widgets/controls",
      "_model_module_version": "1.5.0",
      "_model_name": "IntProgressModel",
      "_view_count": null,
      "_view_module": "@jupyter-widgets/controls",
      "_view_module_version": "1.5.0",
      "_view_name": "ProgressView",
      "bar_style": "",
      "description": "Processing: ",
      "description_tooltip": null,
      "layout": "IPY_MODEL_0c822482a5a94d8ab943b2053e5a0928",
      "max": 4,
      "min": 0,
      "orientation": "horizontal",
      "style": "IPY_MODEL_08256bb8c45144eba62b157a3efaef01",
      "value": 4
     }
    }
   }
  }
 },
 "nbformat": 4,
 "nbformat_minor": 1
}
